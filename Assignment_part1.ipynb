{
  "nbformat": 4,
  "nbformat_minor": 0,
  "metadata": {
    "colab": {
      "provenance": []
    },
    "kernelspec": {
      "name": "python3",
      "display_name": "Python 3"
    },
    "language_info": {
      "name": "python"
    }
  },
  "cells": [
    {
      "cell_type": "code",
      "execution_count": 2,
      "metadata": {
        "colab": {
          "base_uri": "https://localhost:8080/"
        },
        "id": "Y82bJtOuu-aA",
        "outputId": "98a668a5-af92-4a0e-a8c3-8d24a2c7d88d"
      },
      "outputs": [
        {
          "output_type": "stream",
          "name": "stdout",
          "text": [
            "Random vector: [ 4 18 20 15 10  4  7 15 11  4  8 18 20 11  8]\n",
            "Reshaped array:\n",
            " [[ 4 18 20 15 10]\n",
            " [ 4  7 15 11  4]\n",
            " [ 8 18 20 11  8]]\n",
            "Array shape: (3, 5)\n",
            "Array after replacing max in each row by 0:\n",
            " [[ 4 18  0 15 10]\n",
            " [ 4  7  0 11  4]\n",
            " [ 8 18  0 11  8]]\n",
            "2D array:\n",
            " [[0 0 0]\n",
            " [0 0 0]\n",
            " [0 0 0]\n",
            " [0 0 0]]\n",
            "Shape of the array: (4, 3)\n",
            "Type of the array: <class 'numpy.ndarray'>\n",
            "Data type of the array: int32\n"
          ]
        }
      ],
      "source": [
        "import numpy as np\n",
        "random_vector = np.random.randint(1, 21, size=15)\n",
        "print(\"Random vector:\", random_vector)\n",
        "reshaped_array = random_vector.reshape(3, 5)\n",
        "print(\"Reshaped array:\\n\", reshaped_array)\n",
        "print(\"Array shape:\", reshaped_array.shape)\n",
        "for i in range(reshaped_array.shape[0]):\n",
        "    max_index = np.argmax(reshaped_array[i])\n",
        "    reshaped_array[i, max_index] = 0\n",
        "print(\"Array after replacing max in each row by 0:\\n\", reshaped_array)\n",
        "array_2d = np.zeros((4, 3), dtype=np.int32)\n",
        "print(\"2D array:\\n\", array_2d)\n",
        "print(\"Shape of the array:\", array_2d.shape)\n",
        "print(\"Type of the array:\", type(array_2d))\n",
        "print(\"Data type of the array:\", array_2d.dtype)\n"
      ]
    },
    {
      "cell_type": "code",
      "source": [
        "import numpy as np\n",
        "A = np.array([[3, -2], [1, 0]])\n",
        "eigenvalues, eigenvectors = np.linalg.eig(A)\n",
        "print(\"Eigenvalues:\", eigenvalues)\n",
        "print(\"Right eigenvectors:\\n\", eigenvectors)\n"
      ],
      "metadata": {
        "colab": {
          "base_uri": "https://localhost:8080/"
        },
        "id": "TI3otE2FvX5N",
        "outputId": "68626aad-f208-4da3-a860-0f4f8b190fe2"
      },
      "execution_count": 3,
      "outputs": [
        {
          "output_type": "stream",
          "name": "stdout",
          "text": [
            "Eigenvalues: [2. 1.]\n",
            "Right eigenvectors:\n",
            " [[0.89442719 0.70710678]\n",
            " [0.4472136  0.70710678]]\n"
          ]
        }
      ]
    },
    {
      "cell_type": "code",
      "source": [
        "import numpy as np\n",
        "array = np.array([[0, 1, 2], [3, 4, 5]])\n",
        "diagonal_sum = np.trace(array)\n",
        "print(\"Sum of diagonal elements:\", diagonal_sum)\n"
      ],
      "metadata": {
        "colab": {
          "base_uri": "https://localhost:8080/"
        },
        "id": "gflemLv0v0R6",
        "outputId": "c9e2b77f-9bf3-4c9b-cb0b-e66a3c06696a"
      },
      "execution_count": 4,
      "outputs": [
        {
          "output_type": "stream",
          "name": "stdout",
          "text": [
            "Sum of diagonal elements: 4\n"
          ]
        }
      ]
    },
    {
      "cell_type": "code",
      "source": [
        "import numpy as np\n",
        "array1 = np.array([[1, 2], [3, 4],[5, 6]])\n",
        "reshaped_array1 = array1.reshape(3, 2)\n",
        "print(\"Reshape 3x2:\")\n",
        "print(reshaped_array1)\n",
        "print()\n",
        "array2 = np.array([[1, 2, 3],\n",
        "                   [4, 5, 6]])\n",
        "reshaped_array2 = array2.reshape(2, 3)\n",
        "print(\"Reshape 2x3:\")\n",
        "print(reshaped_array2)"
      ],
      "metadata": {
        "colab": {
          "base_uri": "https://localhost:8080/"
        },
        "id": "cW24fQt6v_j6",
        "outputId": "3e821fdf-fe0e-4a0c-db07-c7e7b551674d"
      },
      "execution_count": 5,
      "outputs": [
        {
          "output_type": "stream",
          "name": "stdout",
          "text": [
            "Reshape 3x2:\n",
            "[[1 2]\n",
            " [3 4]\n",
            " [5 6]]\n",
            "\n",
            "Reshape 2x3:\n",
            "[[1 2 3]\n",
            " [4 5 6]]\n"
          ]
        }
      ]
    }
  ]
}