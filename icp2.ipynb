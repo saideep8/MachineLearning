{
  "nbformat": 4,
  "nbformat_minor": 0,
  "metadata": {
    "colab": {
      "provenance": []
    },
    "kernelspec": {
      "name": "python3",
      "display_name": "Python 3"
    },
    "language_info": {
      "name": "python"
    }
  },
  "cells": [
    {
      "cell_type": "code",
      "execution_count": 1,
      "metadata": {
        "colab": {
          "base_uri": "https://localhost:8080/"
        },
        "id": "betiXDy32Eq4",
        "outputId": "24e9ed5f-c8a4-47eb-b832-59c64675feff"
      },
      "outputs": [
        {
          "output_type": "stream",
          "name": "stdout",
          "text": [
            "*\n",
            "**\n",
            "***\n",
            "****\n",
            "*****\n",
            "****\n",
            "***\n",
            "**\n",
            "*\n"
          ]
        }
      ],
      "source": [
        "def print_star_pattern(n):\n",
        "    for i in range(1, n + 1):\n",
        "        print('*' * i)\n",
        "    for i in range(n - 1, 0, -1):\n",
        "        print('*' * i)\n",
        "n = 5\n",
        "print_star_pattern(n)"
      ]
    },
    {
      "cell_type": "code",
      "source": [
        "my_list = [10, 20, 30, 40, 50, 60, 70, 80, 90, 100]\n",
        "\n",
        "for i in range(len(my_list)):\n",
        "    if i % 2 != 0:\n",
        "        print(my_list[i])"
      ],
      "metadata": {
        "colab": {
          "base_uri": "https://localhost:8080/"
        },
        "id": "Ax06IAZu2LMV",
        "outputId": "4ed272b5-9004-4c57-9e89-809a210fcefb"
      },
      "execution_count": 6,
      "outputs": [
        {
          "output_type": "stream",
          "name": "stdout",
          "text": [
            "20\n",
            "40\n",
            "60\n",
            "80\n",
            "100\n"
          ]
        }
      ]
    },
    {
      "cell_type": "code",
      "source": [
        "x = [23, 'Python', 23.98]\n",
        "types_list = []\n",
        "for element in x:\n",
        "    types_list.append(type(element))\n",
        "print(x)\n",
        "print(types_list)"
      ],
      "metadata": {
        "colab": {
          "base_uri": "https://localhost:8080/"
        },
        "id": "AJTM4Et42Wrm",
        "outputId": "c9ebe92c-225b-4dc9-84f6-7d99b10a0a46"
      },
      "execution_count": 7,
      "outputs": [
        {
          "output_type": "stream",
          "name": "stdout",
          "text": [
            "[23, 'Python', 23.98]\n",
            "[<class 'int'>, <class 'str'>, <class 'float'>]\n"
          ]
        }
      ]
    },
    {
      "cell_type": "code",
      "source": [
        "def get_unique_items(input_list):\n",
        "    unique_list = list(set(input_list))\n",
        "    return unique_list\n",
        "sample_list = [1, 2, 3, 3, 3, 3, 4, 5]\n",
        "unique_list = get_unique_items(sample_list)\n",
        "print(\"Unique List:\", unique_list)"
      ],
      "metadata": {
        "colab": {
          "base_uri": "https://localhost:8080/"
        },
        "id": "4D8vMmzi2n6O",
        "outputId": "8081f3a4-42a2-40a6-add6-e13765acb700"
      },
      "execution_count": 8,
      "outputs": [
        {
          "output_type": "stream",
          "name": "stdout",
          "text": [
            "Unique List: [1, 2, 3, 4, 5]\n"
          ]
        }
      ]
    },
    {
      "cell_type": "code",
      "source": [
        "def count_upper_lower(s):\n",
        "    upper_count = 0\n",
        "    lower_count = 0\n",
        "\n",
        "    for char in s:\n",
        "        if char.isupper():\n",
        "            upper_count += 1\n",
        "        elif char.islower():\n",
        "            lower_count += 1\n",
        "    return upper_count, lower_count\n",
        "\n",
        "input_string = 'The quick Brow Fox'\n",
        "\n",
        "upper_count, lower_count = count_upper_lower(input_string)\n",
        "\n",
        "print(\"No. of Upper-case characters:\", upper_count)\n",
        "print(\"No. of Lower-case Characters:\", lower_count)"
      ],
      "metadata": {
        "colab": {
          "base_uri": "https://localhost:8080/"
        },
        "id": "X_NuNhSD252G",
        "outputId": "775a9aeb-3ee1-442f-ed8f-b03f2db5ed11"
      },
      "execution_count": 9,
      "outputs": [
        {
          "output_type": "stream",
          "name": "stdout",
          "text": [
            "No. of Upper-case characters: 3\n",
            "No. of Lower-case Characters: 12\n"
          ]
        }
      ]
    }
  ]
}